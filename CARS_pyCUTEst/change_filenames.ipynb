{
 "cells": [
  {
   "cell_type": "code",
   "execution_count": 5,
   "metadata": {},
   "outputs": [],
   "source": [
    "import os\n",
    "import os.path\n",
    "\n",
    "folder = 'res/npy/params_r0.01_M10_bgt10k'\n",
    "for file in os.listdir(folder):\n",
    "    strs = file.split('_')\n",
    "    otype = strs[0]\n",
    "    pname = strs[-1].split('.')[0]\n",
    "    expnum = strs[-2]\n",
    "    working_dir = os.getcwd()\n",
    "    old_name = os.path.join(working_dir, folder+\"/\"+file)\n",
    "    new_name = os.path.join(working_dir, folder+\"/\"+f\"{otype}_{pname}_{expnum}.npy\")\n",
    "    os.rename(old_name, new_name)"
   ]
  }
 ],
 "metadata": {
  "interpreter": {
   "hash": "63fd5069d213b44bf678585dea6b12cceca9941eaf7f819626cde1f2670de90d"
  },
  "kernelspec": {
   "display_name": "Python 3.9.4 64-bit",
   "language": "python",
   "name": "python3"
  },
  "language_info": {
   "codemirror_mode": {
    "name": "ipython",
    "version": 3
   },
   "file_extension": ".py",
   "mimetype": "text/x-python",
   "name": "python",
   "nbconvert_exporter": "python",
   "pygments_lexer": "ipython3",
   "version": "3.9.4"
  },
  "orig_nbformat": 4
 },
 "nbformat": 4,
 "nbformat_minor": 2
}
