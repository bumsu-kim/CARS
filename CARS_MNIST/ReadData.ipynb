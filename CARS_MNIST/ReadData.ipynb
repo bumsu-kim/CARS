{
 "cells": [
  {
   "cell_type": "code",
   "execution_count": 2,
   "metadata": {},
   "outputs": [],
   "source": [
    "import os\n",
    "from os.path import join\n",
    "import numpy as np\n",
    "import csv\n",
    "import ReadDataSetup as rds\n",
    "'''\n",
    "Directory Setting\n",
    "\n",
    "Read and set \"ReadDataSetup.py\" first!!\n",
    "\n",
    "Also see \"ReadData.py\" for a quick analysis (without histogram)\n",
    "'''\n",
    "exp_name = 'carsnq' # read the description in \"ReadDataSetup.py\" first!!\n",
    "onames, dirname, testname, subdirnames = rds.Setup_Directories(exp_name)\n",
    "dirname += '/'\n",
    "\n",
    "savedir = 'Analysis/'+testname+'/' # output is saved here\n"
   ]
  },
  {
   "cell_type": "code",
   "execution_count": 3,
   "metadata": {},
   "outputs": [
    {
     "name": "stdout",
     "output_type": "stream",
     "text": [
      "c:\\Users\\Bumsu\\Documents\\GitHub\\CARS\\CARS\\CARS_MNIST\\CARS_NQ/0/CARS_nq_5.csv\n",
      "10000\n"
     ]
    }
   ],
   "source": [
    "''' \n",
    "    Read results from the files\n",
    "    (shows the number of data(imgs) read from the files)\n",
    "'''\n",
    "\n",
    "def read_res(fname):\n",
    "    dat = np.empty([10000, 5])\n",
    "    i = 0\n",
    "    with open(fname, 'r') as f:\n",
    "        reader = csv.reader(f, dialect='excel', delimiter='\\t')\n",
    "        for row in reader:\n",
    "            dat[i,0:4] = [int(str) for str in row[:-1]]\n",
    "            if row[-1] == 'S':\n",
    "                dat[i, -1] = 1\n",
    "            else:\n",
    "                dat[i, -1] = 0\n",
    "            i+=1\n",
    "    print(i)\n",
    "    return dat[:i,:]\n",
    "\n",
    "\n",
    "dat = {}\n",
    "for oname in onames:\n",
    "    first = True\n",
    "    for subdirname in subdirnames:\n",
    "        fname = dirname + subdirname + oname + '.csv'\n",
    "        print(fname)\n",
    "        if first:\n",
    "            dat[oname] = read_res(fname)\n",
    "            first = False\n",
    "        else:\n",
    "            dat[oname] = np.vstack((dat[oname], read_res(fname)))\n",
    "    dat[oname] = dat[oname].astype('int')"
   ]
  },
  {
   "cell_type": "code",
   "execution_count": 4,
   "metadata": {},
   "outputs": [
    {
     "name": "stdout",
     "output_type": "stream",
     "text": [
      "CARS_nq_5, :\n",
      "\n",
      "   avg = 1123.52\n",
      "   med = 636.0\n",
      "   succ_rate = 0.9786\n"
     ]
    },
    {
     "data": {
      "image/png": "[encoded data removed]",
      "text/plain": [
       "<Figure size 432x288 with 1 Axes>"
      ]
     },
     "metadata": {
      "needs_background": "light"
     },
     "output_type": "display_data"
    }
   ],
   "source": [
    "'''\n",
    "    Make a histogram and save it in \"savedir\"\n",
    "    Also show the success rate, and average/median queries for successful attacks, too\n",
    "'''\n",
    "\n",
    "def query_stats(dat, budget = None):\n",
    "    '''\n",
    "    dat = nparray (numdata)-by-5\n",
    "        format: [tid, ilbl, tlbl, nevals, succ]\n",
    "    '''\n",
    "    if budget == None:\n",
    "        budget = float('inf')\n",
    "    ndat = len(dat)\n",
    "    idx = (dat[:,4]>0) * (dat[:,3] <= budget)\n",
    "    succ = np.sum(idx)\n",
    "    succ_rate = succ/ndat\n",
    "    q = dat[idx,3]\n",
    "    dat[dat[:,4]==0, 3] = 999999\n",
    "    ndat = succ\n",
    "    np.sort(q)\n",
    "    avg = np.average(q)\n",
    "    med = np.median(q)\n",
    "    return avg, med, succ_rate, q\n",
    "\n",
    "import matplotlib.pyplot as plt\n",
    "\n",
    "\n",
    "if not os.path.exists(savedir):\n",
    "    os.makedirs(savedir)\n",
    "\n",
    "nbins = 60\n",
    "budget = 10000\n",
    "nbins_reduced = 400\n",
    "budget_reduced = 400\n",
    "for oname in onames:\n",
    "    avg, med, succ_rate, q = query_stats(dat[oname], budget)\n",
    "    text2print = f'{oname}, :\\n\\n   avg = {avg:.2f}\\n   med = {med}\\n   succ_rate = {succ_rate:.4f}'\n",
    "    print(text2print)\n",
    "    if budget_reduced < budget:\n",
    "        plt.hist(q, bins = [budget*1./nbins*i for i in range(nbins+1)], histtype='stepfilled')\n",
    "        plt.title(\"oname\")\n",
    "        plt.grid()\n",
    "    else:\n",
    "        plt.hist(q, bins = [budget*1./nbins*i for i in range(nbins+1)], histtype='step')\n",
    "        plt.title(f\"budget up to {budget}\")\n",
    "    savefilename = savedir + oname + \".png\"\n",
    "    plt.savefig(savefilename, dpi=300)\n",
    "    plt.show()"
   ]
  },
  {
   "cell_type": "code",
   "execution_count": null,
   "metadata": {},
   "outputs": [],
   "source": [
    "# Cumulative Distribution Plot\n",
    "\n",
    "import matplotlib.pyplot as plt\n",
    "\n",
    "nbins = 60\n",
    "budget = 50000\n",
    "budget_reduced = 10000\n",
    "nbins_reduced = min(1800, budget_reduced)\n",
    "nticks = 6\n",
    "xticks = [budget_reduced*1./nticks*i for i in range(0,nticks+1)]\n",
    "yticks = [i*0.2 for i in range(0,5+1)]\n",
    "for oname in onames:\n",
    "    avg, med, succ_rate, q = query_stats(dat[oname])\n",
    "    text2print = f'{oname}:\\n\\n   avg = {avg:.2f}\\n   med = {med}\\n   succ_rate = {succ_rate}'\n",
    "    print(text2print)\n",
    "    \n",
    "    plt.hist(dat[oname][:,3], bins = [budget_reduced*1./nbins_reduced*i for i in range(nbins_reduced+1)], cumulative = True, histtype='step')\n",
    "    plt.xticks(xticks)\n",
    "\n",
    "    plt.title(f\"{oname}: budget up to {budget_reduced}\")\n",
    "    plt.tight_layout(pad = 1.0)\n",
    "    savefilename = savedir + \"cumul_\" +  oname + \".png\"\n",
    "    plt.grid()\n",
    "    plt.savefig(savefilename, dpi=300)\n",
    "plt.legend(onames, loc=\"lower right\")\n",
    "plt.show()"
   ]
  },
  {
   "cell_type": "code",
   "execution_count": null,
   "metadata": {},
   "outputs": [],
   "source": [
    "# collect 'failed' images for each optimizer, for future experiments with increased budgets\n",
    "failed_set = {}\n",
    "for oname in onames:\n",
    "    d = dat[oname]\n",
    "    idx = (d[:,-1] == 0)\n",
    "    failed_set[oname] = d[idx,:]\n",
    "    fname = dirname + oname + '_failed.npy'\n",
    "    np.save(fname, failed_set[oname][:,0:2])"
   ]
  },
  {
   "cell_type": "code",
   "execution_count": null,
   "metadata": {},
   "outputs": [],
   "source": [
    "# Histogram of the failed labels for each optimizer\n",
    "\n",
    "for oname in onames:\n",
    "    plt.hist(failed_set[oname][:,1], bins = range(10+1))\n",
    "    plt.title(f'{oname} failures on labels')\n",
    "    plt.show()"
   ]
  },
  {
   "cell_type": "markdown",
   "metadata": {},
   "source": [
    "*TEMP ... should be deleted later"
   ]
  },
  {
   "cell_type": "code",
   "execution_count": 15,
   "metadata": {},
   "outputs": [
    {
     "data": {
      "image/png": "[encoded data removed]",
      "text/plain": [
       "<Figure size 432x288 with 2 Axes>"
      ]
     },
     "metadata": {
      "needs_background": "light"
     },
     "output_type": "display_data"
    }
   ],
   "source": [
    "import numpy as np\n",
    "import matplotlib.pyplot as plt\n",
    "oname = 'CARS.2'\n",
    "im = np.load( 'img_Results_' + oname + '_0/' + '1_0_'+ oname + '_7.npy')\n",
    "plt.xticks([])\n",
    "plt.yticks([])\n",
    "plt.grid(False)\n",
    "plt.imshow(1-im, cmap=plt.cm.binary)\n",
    "plt.colorbar()\n",
    "plt.xlabel('2')\n",
    "plt.show()\n"
   ]
  }
 ],
 "metadata": {
  "interpreter": {
   "hash": "63fd5069d213b44bf678585dea6b12cceca9941eaf7f819626cde1f2670de90d"
  },
  "kernelspec": {
   "display_name": "Python 3.9.4 64-bit",
   "name": "python3"
  },
  "language_info": {
   "codemirror_mode": {
    "name": "ipython",
    "version": 3
   },
   "file_extension": ".py",
   "mimetype": "text/x-python",
   "name": "python",
   "nbconvert_exporter": "python",
   "pygments_lexer": "ipython3",
   "version": "3.9.4"
  }
 },
 "nbformat": 4,
 "nbformat_minor": 4
}
